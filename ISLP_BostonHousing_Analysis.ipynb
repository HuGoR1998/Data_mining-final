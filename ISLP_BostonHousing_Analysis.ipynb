{
 "cells": [
  {
   "cell_type": "markdown",
   "id": "777d9b52",
   "metadata": {},
   "source": [
    "# ISLP Chapter 2 - Question 10: Boston Housing Dataset Analysis using ISLP"
   ]
  },
  {
   "cell_type": "code",
   "execution_count": 1,
   "id": "937fa200",
   "metadata": {},
   "outputs": [
    {
     "ename": "ModuleNotFoundError",
     "evalue": "No module named 'islp'",
     "output_type": "error",
     "traceback": [
      "\u001b[1;31m---------------------------------------------------------------------------\u001b[0m",
      "\u001b[1;31mModuleNotFoundError\u001b[0m                       Traceback (most recent call last)",
      "Cell \u001b[1;32mIn[1], line 5\u001b[0m\n\u001b[0;32m      3\u001b[0m \u001b[38;5;28;01mimport\u001b[39;00m \u001b[38;5;21;01mmatplotlib\u001b[39;00m\u001b[38;5;21;01m.\u001b[39;00m\u001b[38;5;21;01mpyplot\u001b[39;00m \u001b[38;5;28;01mas\u001b[39;00m \u001b[38;5;21;01mplt\u001b[39;00m\n\u001b[0;32m      4\u001b[0m \u001b[38;5;28;01mimport\u001b[39;00m \u001b[38;5;21;01mseaborn\u001b[39;00m \u001b[38;5;28;01mas\u001b[39;00m \u001b[38;5;21;01msns\u001b[39;00m\n\u001b[1;32m----> 5\u001b[0m \u001b[38;5;28;01mfrom\u001b[39;00m \u001b[38;5;21;01mislp\u001b[39;00m \u001b[38;5;28;01mimport\u001b[39;00m load_data\n\u001b[0;32m      6\u001b[0m \u001b[38;5;28;01mimport\u001b[39;00m \u001b[38;5;21;01mwarnings\u001b[39;00m\n\u001b[0;32m      8\u001b[0m warnings\u001b[38;5;241m.\u001b[39mfilterwarnings(\u001b[38;5;124m'\u001b[39m\u001b[38;5;124mignore\u001b[39m\u001b[38;5;124m'\u001b[39m)\n",
      "\u001b[1;31mModuleNotFoundError\u001b[0m: No module named 'islp'"
     ]
    }
   ],
   "source": [
    "import pandas as pd\n",
    "import numpy as np\n",
    "import matplotlib.pyplot as plt\n",
    "import seaborn as sns\n",
    "from islp import load_data\n",
    "import warnings\n",
    "\n",
    "warnings.filterwarnings('ignore')\n",
    "\n",
    "# Load dataset from ISLP\n",
    "df = load_data('Boston')\n",
    "\n",
    "# Add column names\n",
    "df.columns = [col.strip() for col in df.columns]\n",
    "df.rename(columns={'MEDV': 'target'}, inplace=True)\n",
    "\n",
    "# Basic information\n",
    "print(f\"Dataset shape: {df.shape}\")\n",
    "print(f\"Columns: {list(df.columns)}\")\n",
    "df.head()\n"
   ]
  },
  {
   "cell_type": "code",
   "execution_count": null,
   "id": "da9bca7f",
   "metadata": {},
   "outputs": [],
   "source": [
    "# Correlation analysis\n",
    "correlation_matrix = df.corr()\n",
    "crime_correlations = correlation_matrix['CRIM'].abs().sort_values(ascending=False)\n",
    "\n",
    "# Display correlation matrix\n",
    "plt.figure(figsize=(12, 10))\n",
    "sns.heatmap(correlation_matrix, annot=True, cmap='coolwarm', fmt='.2f', square=True)\n",
    "plt.title('Correlation Matrix of Boston Housing Dataset')\n",
    "plt.show()\n"
   ]
  },
  {
   "cell_type": "code",
   "execution_count": null,
   "id": "a638a992",
   "metadata": {},
   "outputs": [],
   "source": [
    "# Charles River analysis\n",
    "charles_river_count = (df['CHAS'] == 1).sum()\n",
    "print(f\"Suburbs bounding Charles River: {charles_river_count}\")\n",
    "print(f\"Percentage: {charles_river_count / len(df) * 100:.1f}%\")\n"
   ]
  },
  {
   "cell_type": "code",
   "execution_count": null,
   "id": "c41a8ea9",
   "metadata": {},
   "outputs": [],
   "source": [
    "# Median pupil-teacher ratio\n",
    "median_ptratio = df['PTRATIO'].median()\n",
    "print(f\"Median pupil-teacher ratio: {median_ptratio}\")\n"
   ]
  },
  {
   "cell_type": "code",
   "execution_count": null,
   "id": "41911294",
   "metadata": {},
   "outputs": [],
   "source": [
    "# Lowest home value analysis\n",
    "lowest_idx = df['target'].idxmin()\n",
    "lowest_suburb = df.loc[lowest_idx]\n",
    "\n",
    "print(f\"Lowest median home value: ${lowest_suburb['target']:.1f}k\")\n",
    "print(\"Characteristics of this suburb:\")\n",
    "for col in df.columns:\n",
    "    if col != 'target':\n",
    "        percentile = (df[col] <= lowest_suburb[col]).mean() * 100\n",
    "        print(f\"{col}: {lowest_suburb[col]:.3f} ({percentile:.1f}th percentile)\")\n"
   ]
  },
  {
   "cell_type": "code",
   "execution_count": null,
   "id": "57e8ffcd",
   "metadata": {},
   "outputs": [],
   "source": [
    "# Room analysis\n",
    "rooms_7_plus = df[df['RM'] > 7]\n",
    "rooms_8_plus = df[df['RM'] > 8]\n",
    "\n",
    "print(f\"Suburbs with >7 rooms per dwelling: {len(rooms_7_plus)}\")\n",
    "print(f\"Suburbs with >8 rooms per dwelling: {len(rooms_8_plus)}\")\n",
    "\n",
    "if len(rooms_8_plus) > 0:\n",
    "    print(\"\\nCharacteristics of suburbs with >8 rooms:\")\n",
    "    print(rooms_8_plus.describe())\n"
   ]
  }
 ],
 "metadata": {
  "kernelspec": {
   "display_name": "base",
   "language": "python",
   "name": "python3"
  },
  "language_info": {
   "codemirror_mode": {
    "name": "ipython",
    "version": 3
   },
   "file_extension": ".py",
   "mimetype": "text/x-python",
   "name": "python",
   "nbconvert_exporter": "python",
   "pygments_lexer": "ipython3",
   "version": "3.11.3"
  }
 },
 "nbformat": 4,
 "nbformat_minor": 5
}
